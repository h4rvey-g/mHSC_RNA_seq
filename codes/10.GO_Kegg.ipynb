{
 "cells": [
  {
   "cell_type": "code",
   "execution_count": 1,
   "metadata": {},
   "outputs": [],
   "source": [
    "import numpy as np\n",
    "import pandas as pd\n",
    "import os\n",
    "import subprocess\n",
    "import multiprocessing as mp\n",
    "\n",
    "# get the path to the root of the repository\n",
    "root_path = (\n",
    "    subprocess.check_output([\"git\", \"rev-parse\", \"--show-toplevel\"])\n",
    "    .decode(\"utf-8\")\n",
    "    .strip()\n",
    ")\n",
    "# set the working directory to the root of the repository\n",
    "os.chdir(root_path)\n",
    "# create ./data/09.format_result/ if it doesn't exist\n",
    "os.makedirs(\"data/09.format_result\", exist_ok=True)"
   ]
  }
 ],
 "metadata": {
  "kernelspec": {
   "display_name": "Python 3 (ipykernel)",
   "language": "python",
   "name": "python3"
  },
  "language_info": {
   "codemirror_mode": {
    "name": "ipython",
    "version": 3
   },
   "file_extension": ".py",
   "mimetype": "text/x-python",
   "name": "python",
   "nbconvert_exporter": "python",
   "pygments_lexer": "ipython3",
   "version": "3.10.10"
  },
  "orig_nbformat": 4
 },
 "nbformat": 4,
 "nbformat_minor": 2
}
